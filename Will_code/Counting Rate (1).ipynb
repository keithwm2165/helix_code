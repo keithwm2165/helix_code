{
 "cells": [
  {
   "cell_type": "code",
   "execution_count": 1,
   "metadata": {},
   "outputs": [],
   "source": [
    "import csv\n",
    "\n",
    "import matplotlib.pyplot as plt\n",
    "\n",
    "import numpy as np\n",
    "\n",
    "import matplotlib.pyplot as plt\n",
    "\n",
    "import scipy.interpolate\n",
    "\n",
    "from scipy.interpolate import splev, splrep\n",
    "\n",
    "from scipy.interpolate import UnivariateSpline\n",
    "\n",
    "import scipy\n",
    "\n",
    "import scipy.optimize\n",
    "\n",
    "from scipy.optimize import curve_fit\n",
    "\n",
    "import pandas as pd"
   ]
  },
  {
   "cell_type": "code",
   "execution_count": 2,
   "metadata": {},
   "outputs": [],
   "source": [
    "Energy = []\n",
    "Flux = []"
   ]
  },
  {
   "cell_type": "code",
   "execution_count": 3,
   "metadata": {},
   "outputs": [
    {
     "ename": "FileNotFoundError",
     "evalue": "[Errno 2] No such file or directory: 'C2.csv'",
     "output_type": "error",
     "traceback": [
      "\u001b[0;31m---------------------------------------------------------------------------\u001b[0m",
      "\u001b[0;31mFileNotFoundError\u001b[0m                         Traceback (most recent call last)",
      "\u001b[0;32m<ipython-input-3-b98fdfa6911e>\u001b[0m in \u001b[0;36m<module>\u001b[0;34m\u001b[0m\n\u001b[0;32m----> 1\u001b[0;31m \u001b[0;32mwith\u001b[0m \u001b[0mopen\u001b[0m\u001b[0;34m(\u001b[0m\u001b[0;34m'C2.csv'\u001b[0m\u001b[0;34m)\u001b[0m \u001b[0;32mas\u001b[0m \u001b[0mCfile\u001b[0m\u001b[0;34m:\u001b[0m\u001b[0;34m\u001b[0m\u001b[0m\n\u001b[0m\u001b[1;32m      2\u001b[0m     \u001b[0mread\u001b[0m \u001b[0;34m=\u001b[0m \u001b[0mcsv\u001b[0m\u001b[0;34m.\u001b[0m\u001b[0mreader\u001b[0m\u001b[0;34m(\u001b[0m\u001b[0mCfile\u001b[0m\u001b[0;34m,\u001b[0m \u001b[0mdelimiter\u001b[0m \u001b[0;34m=\u001b[0m \u001b[0;34m','\u001b[0m\u001b[0;34m)\u001b[0m\u001b[0;34m\u001b[0m\u001b[0m\n\u001b[1;32m      3\u001b[0m     \u001b[0mline_count\u001b[0m \u001b[0;34m=\u001b[0m \u001b[0;36m0\u001b[0m\u001b[0;34m\u001b[0m\u001b[0m\n\u001b[1;32m      4\u001b[0m \u001b[0;34m\u001b[0m\u001b[0m\n\u001b[1;32m      5\u001b[0m     \u001b[0;32mfor\u001b[0m \u001b[0mrow\u001b[0m \u001b[0;32min\u001b[0m \u001b[0mread\u001b[0m\u001b[0;34m:\u001b[0m\u001b[0;34m\u001b[0m\u001b[0m\n",
      "\u001b[0;31mFileNotFoundError\u001b[0m: [Errno 2] No such file or directory: 'C2.csv'"
     ]
    }
   ],
   "source": [
    "with open('C2.csv') as Cfile:\n",
    "    read = csv.reader(Cfile, delimiter = ',')\n",
    "    line_count = 0\n",
    "    \n",
    "    for row in read:\n",
    "        if line_count == 0:\n",
    "                #print(row[0],row[1])\n",
    "                line_count += 1\n",
    "        if 0 < line_count < 32:\n",
    "            #print(row[0],row[1])\n",
    "            Energy.append(row[0])\n",
    "            Flux.append(row[1])\n",
    "            line_count += 1\n",
    "        else:\n",
    "            break\n",
    "Energy.remove(Energy[0])\n",
    "Flux.remove(Flux[0])"
   ]
  },
  {
   "cell_type": "code",
   "execution_count": null,
   "metadata": {},
   "outputs": [],
   "source": [
    "Energy = np.array(Energy, dtype = float)\n",
    "Flux = np.array(Flux, dtype = float)\n",
    "\n",
    "plt.loglog(Energy, Flux,'ok')"
   ]
  },
  {
   "cell_type": "code",
   "execution_count": null,
   "metadata": {},
   "outputs": [],
   "source": [
    "TC_Flux = Flux * 10**4        #True Carbon Flux\n",
    "TB_Flux = TC_Flux * 10**-2    #True Beryllium Flux\n",
    "EF  = []\n",
    "\n",
    "for i in range(0,len(TB_Flux)):\n",
    "    EF.append(TB_Flux[i] * Energy[i])\n",
    "    \n",
    "plt.loglog(Energy, EF,'ob')"
   ]
  },
  {
   "cell_type": "code",
   "execution_count": null,
   "metadata": {},
   "outputs": [],
   "source": [
    "LE = np.log10(Energy)\n",
    "LEF = np.log10(EF)\n",
    "\n",
    "plt.plot(LE, LEF,'og')"
   ]
  },
  {
   "cell_type": "code",
   "execution_count": null,
   "metadata": {},
   "outputs": [],
   "source": [
    "spl = splrep(Energy, EF)\n",
    "x2 = np.logspace(0.8, 5, 200, base = 10)\n",
    "y2 = splev(x2, spl)\n",
    "plt.loglog(Energy, EF, 'o', x2, y2)\n",
    "plt.show()\n"
   ]
  },
  {
   "cell_type": "code",
   "execution_count": null,
   "metadata": {
    "scrolled": false
   },
   "outputs": [],
   "source": [
    "fx = []\n",
    "f = []\n",
    "def func(x,a0,a1,a2,a3,a4,a5,a6,a8,a9,a10,a11,a12,a13,a14,a15,a16):\n",
    "    return(a0+a3*(np.log10(x))**3+a2*(np.log10(x))**(2)+a1*(np.log10(x))+a4*(np.log10(x)**4)+a5*(np.log10(x)**5)+a6*(np.log10(x)**6)\n",
    "           +a8*(np.log10(x)**8)+a9*(np.log10(x)**9)+a10*(np.log10(x)**10)+a11*(np.log10(x)**11)+a12*(np.log10(x)**12)\n",
    "           +a13*(np.log10(x)**13)+a14*(np.log10(x)**14)+a15*(np.log10(x)**15)+a16*(np.log10(x)**16))\n",
    "\n",
    "for i in range(0,len(x2)):\n",
    "    if x2[i]<=1000:\n",
    "        fx.append(x2[i])\n",
    "        f.append(y2[i])\n",
    "        \n",
    "popt, pcov = curve_fit(func,fx,f)\n",
    "popt\n",
    "print(popt)\n",
    "\n",
    "plt.loglog(fx, func(fx,*popt), 'r-', label = 'fit to sum(an*log10(x)^n) from [a,0,16]')\n",
    "\n",
    "#popt, pcov = curve_fit(func,fx,f,bounds = ([-.02,0],[0,.06]))\n",
    "#popt\n",
    "\n",
    "#plt.loglog(fx, func(fx,*popt), 'g--')\n",
    "plt.loglog(fx,f,'ok')\n",
    "\n",
    "plt.xlabel('Energy')\n",
    "plt.ylabel('Energy Flux')\n",
    "plt.legend()\n",
    "plt.show()\n",
    "\n",
    "#print(x2)\n",
    "#print(y2)\n",
    "\n",
    "np.asarray(x2)\n",
    "np.asarray(y2)\n",
    "\n",
    "data = []\n",
    "\n",
    "for i in range(0,len(x2)):\n",
    "    data.append([x2[i],y2[i]])\n",
    "    \n",
    "np.asarray(data)\n",
    "    \n",
    "#pd.DataFrame(np.asarray(data=data[1:,1:]),columns = ['Energy','Energy Flux'])\n",
    "\n"
   ]
  },
  {
   "cell_type": "code",
   "execution_count": null,
   "metadata": {},
   "outputs": [],
   "source": [
    "#+q2*(np.log10(x)**17)\n",
    "           #+q3*(np.log10(x)**18)+q4*(np.log10(x)**19)+q5*(np.log10(x)**20)+q6*(np.log10(x)**21)+q7*(np.log10(x)**22)\n",
    "           #+q8*(np.log10(x)**23)+q9*(np.log10(x)**24)"
   ]
  },
  {
   "cell_type": "code",
   "execution_count": null,
   "metadata": {},
   "outputs": [],
   "source": [
    "MinG = .84\n",
    "MaxG = 1.24\n",
    "Uspl = UnivariateSpline(Energy, Flux)\n",
    "\n",
    "I = Uspl.integral(10,1000)\n",
    "\n",
    "print(I * MinG * 7 * 24 * 3600)\n",
    "print(I * MaxG * 7 * 24 * 3600)\n",
    "\n",
    "print(I)\n",
    "\n",
    "V = 1/I\n",
    "\n",
    "norm_I = I * V\n",
    "\n",
    "print(V, norm_I)"
   ]
  },
  {
   "cell_type": "code",
   "execution_count": null,
   "metadata": {},
   "outputs": [],
   "source": [
    "E1=np.linspace(LE[0],LE[7],num = 100)\n",
    "E2=np.linspace(LE[7],LE[29],num = 100)\n",
    "\n",
    "X1=[]\n",
    "X2=[]\n",
    "Y1=[]\n",
    "Y2=[]\n",
    "\n",
    "for i in range(0,len(LE)):\n",
    "    if i <= 7:\n",
    "        X1.append(LE[i])\n",
    "        Y1.append(LEF[i])\n",
    "    else:\n",
    "        X2.append(LE[i])\n",
    "        Y2.append(LEF[i])\n",
    "\n",
    "X1 = np.array(X1)\n",
    "X2 = np.array(X2)\n",
    "Y1 = np.array(Y1)\n",
    "Y2 = np.array(Y2)"
   ]
  },
  {
   "cell_type": "code",
   "execution_count": null,
   "metadata": {},
   "outputs": [],
   "source": [
    "m1 = (len(X1)*np.sum(X1*Y1)-np.sum(X1)*np.sum(Y1))/(len(X1)*np.sum(X1*X1)-np.sum(X1)**2)\n",
    "b1 = (np.sum(Y1)-m1*np.sum(X1))/len(X1)\n",
    "m2 = (len(X2)*np.sum(X2*Y2)-np.sum(X2)*np.sum(Y2))/(len(X2)*np.sum(X2*X2)-np.sum(X2)**2)\n",
    "b2 = (np.sum(Y2)-m2*np.sum(X2))/len(X2)\n",
    "\n",
    "def predict1(Energy):\n",
    "    return m1*Energy+b1\n",
    "def predict2(Energy):\n",
    "    return m2*Energy+b2\n",
    "\n",
    "\n",
    "print(m1,m2)\n",
    "print(b1,b2)"
   ]
  },
  {
   "cell_type": "code",
   "execution_count": null,
   "metadata": {},
   "outputs": [],
   "source": [
    "plt.plot(LE,LEF,'+r', label = 'log10(E)')\n",
    "plt.plot(E1,predict1(E1),'k',label = 'm1 = -0.17')\n",
    "plt.plot(E2,predict2(E2),'k', label = 'm2 = -1.6')\n",
    "plt.legend(loc='upper right')\n",
    "plt.xlabel('log10(E)',fontsize = 20)\n",
    "plt.ylabel('log10(E*dN/dE)',fontsize = 20)\n",
    "params = {'legend.fontsize':20}"
   ]
  },
  {
   "cell_type": "code",
   "execution_count": null,
   "metadata": {},
   "outputs": [],
   "source": [
    "A1 = 10**b1\n",
    "A2 = 10**b2\n",
    "\n",
    "P1 = []\n",
    "P2 =[]\n",
    "\n",
    "for i in range(0,len(X1)):\n",
    "    P1.append(A1*Energy[i]**m1)\n",
    "    #P1.append(10**X[i])\n",
    "    \n",
    "for i in range(8,len(Energy)):\n",
    "    P2.append(A2*Energy[i]**m2)\n",
    "    #P2.append(10**X2[i])\n",
    "    \n",
    "#print(A1,A2)\n",
    "plt.loglog(10**X1,P1,'ok',10**X2,P2,'ok')\n"
   ]
  },
  {
   "cell_type": "code",
   "execution_count": null,
   "metadata": {},
   "outputs": [],
   "source": [
    "Cp1 = 0\n",
    "Cp2 = 0\n",
    "\n",
    "Cp3 = 0\n",
    "Cp4 = 0\n",
    "\n",
    "MinG = 0.84\n",
    "MaxG = 1.24\n",
    "\n",
    "dlogE = (1.61-0.87)/((len(E1)-23))\n",
    "dlogE2 = (4.6-1.55)/(len(E2)-52)\n",
    "                \n",
    "for i in range((len(E1)-23),len(E1)):\n",
    "    Cp1 = Cp1+(A1*(10**E1[i])**m1)*MinG*dlogE\n",
    "    Cp3 = Cp3+(A1*(10**E1[i])**m1)*MaxG*dlogE\n",
    "                \n",
    "for i in range(0,len(E1)-52):\n",
    "    Cp2 = Cp2+(A2*(10**E2[i])**m2)*MinG*dlogE2\n",
    "    Cp4 = Cp4+(A2*(10**E2[i])**m2)*MaxG*dlogE2\n",
    "    \n",
    "#The odd thing about the first time I wrote up the code was that I multiplied the entire thing by dlogE which actually means that\n",
    "#if I don't divide by .103 the amount of events is lower than these number but not by much\n",
    "    \n",
    "Cmin = Cp1 + Cp2\n",
    "Cmax = Cp3 + Cp4\n",
    "print(Cmin,Cmax)\n",
    "\n",
    "\n",
    "print(E2)"
   ]
  },
  {
   "cell_type": "markdown",
   "metadata": {},
   "source": [
    "Fix the bounds of the integration in the cell Above!!"
   ]
  },
  {
   "cell_type": "code",
   "execution_count": null,
   "metadata": {},
   "outputs": [],
   "source": [
    "print(Cmin*7*24*3600)\n",
    "print(Cmax*7*24*3600)"
   ]
  },
  {
   "cell_type": "code",
   "execution_count": null,
   "metadata": {},
   "outputs": [],
   "source": []
  },
  {
   "cell_type": "code",
   "execution_count": null,
   "metadata": {},
   "outputs": [],
   "source": []
  }
 ],
 "metadata": {
  "kernelspec": {
   "display_name": "Python 3",
   "language": "python",
   "name": "python3"
  },
  "language_info": {
   "codemirror_mode": {
    "name": "ipython",
    "version": 3
   },
   "file_extension": ".py",
   "mimetype": "text/x-python",
   "name": "python",
   "nbconvert_exporter": "python",
   "pygments_lexer": "ipython3",
   "version": "3.5.2"
  }
 },
 "nbformat": 4,
 "nbformat_minor": 2
}
