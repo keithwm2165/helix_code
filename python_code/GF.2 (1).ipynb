{
 "cells": [
  {
   "cell_type": "code",
   "execution_count": 8,
   "metadata": {},
   "outputs": [],
   "source": [
    "import math\n",
    "\n",
    "import random\n",
    "\n",
    "import matplotlib.pyplot as plt\n",
    "\n",
    "import numpy as np\n",
    "\n",
    "import pylab\n",
    "\n",
    "import csv\n",
    "\n",
    "%matplotlib inline"
   ]
  },
  {
   "cell_type": "code",
   "execution_count": 9,
   "metadata": {},
   "outputs": [],
   "source": [
    "i = 1\n",
    "Garray = [0]\n",
    "N = 100     #Number of trials\n",
    "\n",
    "a1 = 1.6  #length of detector 1\n",
    "a2 = 1.6  #length of detector 2\n",
    "b1 = 1.6  #width of detector 1\n",
    "b2 = 1.6  #width of detector 2\n",
    "l = 2.3   #space in between the detectors\n",
    "\n",
    "for i in range(1,N):\n",
    "    #N = 10000 #Sample Size\n",
    "\n",
    "    z = 0       #array variable\n",
    "\n",
    "    phi = []  #Values of phi\n",
    "\n",
    "    cos = []  #Values of Cos(theta)\n",
    "\n",
    "    theta = []    #Values of theta\n",
    "\n",
    "    I = []\n",
    "\n",
    "    for z in range(0, i):\n",
    "        k = random.uniform(0,6.2831853071796)\n",
    "        phi.append(k)\n",
    "        I.append(z)\n",
    "        z = z + 1\n",
    "    #print(I)\n",
    "\n",
    "\n",
    "    for z in range(0, i):\n",
    "        k = random.uniform(0,1)\n",
    "        cos.append(k)\n",
    "        theta.append(math.acos(k))\n",
    "        z = z + 1\n",
    "    \n",
    "    #print(phi)\n",
    "    #print(theta)\n",
    "\n",
    "    #plt.hist(phi)\n",
    "    \n",
    "\n",
    "    z = 0     #loop variable \n",
    "    A = []    #Directional Response Variable\n",
    "    for z in range(0,i):\n",
    "    \n",
    "    #The following for loop calculates Directional Response for all values of phi and and theta created above. All of which is \n",
    "    #dictated by the fact that the fact that both detectors are taken to be square and identical. An array, A, is made based on \n",
    "    #full of all the possible values\n",
    "    \n",
    "    \n",
    "        alpha = (1/2) * (a1 + a2)\n",
    "        beta = (1/2) * (b1 + b2)\n",
    "        gamma = (1/2) * (a1 - a2)\n",
    "        delta = (1/2) * (b1 - b2)\n",
    "        zeta = (-l*(math.tan(theta[z]))*(math.cos(phi[z])))\n",
    "        nu = (-l*(math.tan(theta[z]))*(math.sin(phi[z])))\n",
    "        j = gamma + zeta\n",
    "        k = gamma - zeta\n",
    "        m = delta + nu\n",
    "        n = delta - nu\n",
    "        if j > 0:\n",
    "            Hj = 1\n",
    "        else:\n",
    "            Hj = 0\n",
    "        if k > 0:\n",
    "            Hk = 1\n",
    "        else:\n",
    "            Hk = 0\n",
    "    \n",
    "        if m > 0:\n",
    "            Hm = 1\n",
    "        else:\n",
    "            Hm = 0\n",
    "        if n > 0:\n",
    "            Hn = 1\n",
    "        else:\n",
    "            Hn = 0\n",
    "    \n",
    "        X = a2-j*Hj-k*Hk\n",
    "        Y = b2-m*Hm-n*Hn\n",
    "\n",
    "\n",
    "        if X > 0:\n",
    "            HX = 1\n",
    "        else:\n",
    "            HX = 0\n",
    "        if Y > 0:\n",
    "            HY = 1\n",
    "        else:\n",
    "            HY = 0\n",
    "\n",
    "        U = X*HX*Y*HY\n",
    "        A.append(U)\n",
    "        z = z + 1\n",
    "\n",
    "    z = 0\n",
    "\n",
    "    Apos = []\n",
    "    #print(Apos)\n",
    "    for z in range(0,len(A)):\n",
    "    \n",
    "    #This for loop takes all non zero values of A and creates a new array, Apos, of only those directional response numbers    \n",
    "    \n",
    "        if A[z] > 0:\n",
    "            Apos.append(A[z])\n",
    "            z = z + 1\n",
    "            \n",
    "    A1 = a1 * b1\n",
    "    A2 = a2 * b2\n",
    "\n",
    "    MaxG = A1*A2/pow(l,2)\n",
    "    MinG = MaxG*(1-((pow(a1,2)+pow(a2,2)+pow(b1,2)+pow(b2,2))/(6*pow(l,2))))\n",
    "\n",
    "    #print('Because our two detectors are both square and identical we can approximate G to be within the range:')\n",
    "    #print(MaxG,'>= G >=',MinG)           \n",
    "    \n",
    "    \n",
    "    \n",
    "    dw = (abs(0-6.2831853)*abs(0-1))/i\n",
    "    z = 0\n",
    "    G = 0\n",
    "    \n",
    "    for z in range(0,i):\n",
    "        G = G + (A[z]*dw)\n",
    "        z = z + 1\n",
    "    Garray.append(G)\n",
    "    i = i + 10\n",
    "#print(Garray)"
   ]
  },
  {
   "cell_type": "code",
   "execution_count": 10,
   "metadata": {},
   "outputs": [
    {
     "name": "stdout",
     "output_type": "stream",
     "text": [
      "1.2388657844990556\n"
     ]
    },
    {
     "data": {
      "image/png": "[encoded data removed]",
      "text/plain": [
       "<Figure size 432x288 with 1 Axes>"
      ]
     },
     "metadata": {},
     "output_type": "display_data"
    }
   ],
   "source": [
    "x = np.arange(0,N)\n",
    "y_max = MaxG + 0*x\n",
    "y_min = MinG + 0*x\n",
    "plt.plot(x, y_max, 'k', lw = 9)\n",
    "plt.plot(x, y_min, 'k', lw = 9)\n",
    "plt.plot(x, Garray, 'ob')\n",
    "pylab.ylim(MinG - 0.5, MaxG + 0.5)\n",
    "plt.xlabel('Sample Size', fontsize = 16)\n",
    "plt.ylabel('Estimated G', fontsize = 16)\n",
    "print(MaxG)\n"
   ]
  },
  {
   "cell_type": "code",
   "execution_count": null,
   "metadata": {},
   "outputs": [],
   "source": []
  },
  {
   "cell_type": "code",
   "execution_count": 11,
   "metadata": {},
   "outputs": [
    {
     "name": "stdout",
     "output_type": "stream",
     "text": [
      "['2.555097090352502', '1.6967959918688966', '1.480370323566661', '1.2915496650148772', '0.9830884473994768', '0.6528521141127821', '0.4335478501746005', '0.33000347911252753', '0.19119717955004945', '0.11077568505097042', '0.055994858066092786', '0.02830426305555396', '0.008289312615337137', '0.005504789807854945', '0.0018478497974222868', '0.001070605893154232', '0.0005411695265464627', '0.00018165997883753214', '0.00018165997883753214', '0.0001206372646810021', '5.3201750963247405e-05', '5.3201750963247405e-05', '3.082399239745118e-05', '1.78587826550012e-05', '9.027251779484541e-06', '9.027251779484541e-06', '4.5630923599031475e-06', '1.5317404637020734e-06', '1.5317404637020734e-06', '3.414548873833587e-07', '3.9137456019803764e-07', '1.3137675134229726e-07', '6.640827850634797e-08', '3.3568035509466926e-08', '3.3568035509466926e-08', '1.6967959918688897e-08', '2.8791166380223292e-09', '4.9693123588647325e-09', '1.269707554918806e-09']\n"
     ]
    }
   ],
   "source": [
    "with open('Energy.csv',newline='') as csvfile:\n",
    "    reader = csv.DictReader(csvfile)\n",
    "    x = []\n",
    "    y = []\n",
    "    ty = []\n",
    "    iy = []\n",
    "    for row in reader:\n",
    "        #print(row['Energy'],row['dN/dE*10^-4'],row['dN/dE'],row['E*dN/dE'])\n",
    "        x.append(row['Energy'])\n",
    "        y.append(row['dN/dE*10^-4'])\n",
    "        ty.append(row['dN/dE'])\n",
    "        iy.append(row['E*dN/dE'])\n",
    "    print(ty)\n",
    "    "
   ]
  },
  {
   "cell_type": "code",
   "execution_count": 12,
   "metadata": {},
   "outputs": [],
   "source": [
    "x = np.array(x,dtype=float)\n",
    "y = np.array(y,dtype=float)\n",
    "ty = np.array(ty,dtype=float)\n",
    "iy = np.array(iy,dtype=float)"
   ]
  },
  {
   "cell_type": "code",
   "execution_count": 13,
   "metadata": {},
   "outputs": [
    {
     "data": {
      "image/png": "[encoded data removed]",
      "text/plain": [
       "<Figure size 432x288 with 1 Axes>"
      ]
     },
     "metadata": {},
     "output_type": "display_data"
    }
   ],
   "source": [
    "plt.loglog(x, y, 'ok', label='dN/dE*10^4')\n",
    "plt.xlabel('Energy per nucleus',fontsize=16)\n",
    "plt.ylabel('dN/dE', fontsize=16)\n",
    "#plt.title('Carbon * 10^-4')\n",
    "\n",
    "plt.loglog(x,ty,'or', label='dN/dE')\n",
    "\n",
    "dlogE = abs(5-1)/len(x)\n",
    "\n",
    "#plt.loglog(x,iy,'ob', label= 'E*dN/dE')\n",
    "\n",
    "plt.legend(loc = 'upper right')\n",
    "\n",
    "plt.show()\n",
    "\n",
    "\n",
    "#print(ty)\n",
    "#print(len(ty))\n",
    "#print(len(x))\n"
   ]
  },
  {
   "cell_type": "code",
   "execution_count": 14,
   "metadata": {},
   "outputs": [
    {
     "data": {
      "text/plain": [
       "Text(0,0.5,'E*dN/dE')"
      ]
     },
     "execution_count": 14,
     "metadata": {},
     "output_type": "execute_result"
    },
    {
     "data": {
      "image/png": "[encoded data removed]",
      "text/plain": [
       "<Figure size 432x288 with 1 Axes>"
      ]
     },
     "metadata": {},
     "output_type": "display_data"
    }
   ],
   "source": [
    "plt.loglog(x,iy,'ob',label = 'E*dN/dE')\n",
    "\n",
    "plt.xlabel('Energy (E)', fontsize = 16)\n",
    "plt.ylabel('E*dN/dE', fontsize = 16)"
   ]
  },
  {
   "cell_type": "code",
   "execution_count": null,
   "metadata": {},
   "outputs": [],
   "source": []
  }
 ],
 "metadata": {
  "kernelspec": {
   "display_name": "Python 3",
   "language": "python",
   "name": "python3"
  },
  "language_info": {
   "codemirror_mode": {
    "name": "ipython",
    "version": 3
   },
   "file_extension": ".py",
   "mimetype": "text/x-python",
   "name": "python",
   "nbconvert_exporter": "python",
   "pygments_lexer": "ipython3",
   "version": "3.6.6"
  }
 },
 "nbformat": 4,
 "nbformat_minor": 2
}
